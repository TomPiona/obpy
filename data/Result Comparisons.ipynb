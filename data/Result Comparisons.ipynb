{
 "cells": [
  {
   "cell_type": "code",
   "execution_count": 47,
   "metadata": {
    "collapsed": true
   },
   "outputs": [],
   "source": [
    "import pandas as pd\n",
    "import statsmodels.api as sm\n",
    "import numpy as np"
   ]
  },
  {
   "cell_type": "code",
   "execution_count": 48,
   "metadata": {},
   "outputs": [
    {
     "name": "stdout",
     "output_type": "stream",
     "text": [
      "(7285, 31)\n"
     ]
    },
    {
     "data": {
      "text/html": [
       "<div>\n",
       "<table border=\"1\" class=\"dataframe\">\n",
       "  <thead>\n",
       "    <tr style=\"text-align: right;\">\n",
       "      <th></th>\n",
       "      <th>log_wage</th>\n",
       "      <th>a_age</th>\n",
       "      <th>cat_edu2</th>\n",
       "      <th>cat_edu3</th>\n",
       "      <th>cat_edu4</th>\n",
       "      <th>cat_edu5</th>\n",
       "      <th>cat_edu6</th>\n",
       "      <th>cat_edu7</th>\n",
       "      <th>cat_edu8</th>\n",
       "      <th>cat_edu9</th>\n",
       "      <th>...</th>\n",
       "      <th>cat_industry6</th>\n",
       "      <th>cat_industry7</th>\n",
       "      <th>cat_industry8</th>\n",
       "      <th>cat_industry9</th>\n",
       "      <th>cat_industry10</th>\n",
       "      <th>cat_industry11</th>\n",
       "      <th>cat_industry12</th>\n",
       "      <th>cat_industry13</th>\n",
       "      <th>female</th>\n",
       "      <th>constant</th>\n",
       "    </tr>\n",
       "  </thead>\n",
       "  <tbody>\n",
       "    <tr>\n",
       "      <th>0</th>\n",
       "      <td>2.564949</td>\n",
       "      <td>34</td>\n",
       "      <td>0</td>\n",
       "      <td>0</td>\n",
       "      <td>0</td>\n",
       "      <td>0</td>\n",
       "      <td>0</td>\n",
       "      <td>0</td>\n",
       "      <td>0</td>\n",
       "      <td>1</td>\n",
       "      <td>...</td>\n",
       "      <td>0</td>\n",
       "      <td>0</td>\n",
       "      <td>0</td>\n",
       "      <td>0</td>\n",
       "      <td>0</td>\n",
       "      <td>0</td>\n",
       "      <td>0</td>\n",
       "      <td>0</td>\n",
       "      <td>1</td>\n",
       "      <td>1</td>\n",
       "    </tr>\n",
       "    <tr>\n",
       "      <th>1</th>\n",
       "      <td>2.541602</td>\n",
       "      <td>31</td>\n",
       "      <td>0</td>\n",
       "      <td>0</td>\n",
       "      <td>0</td>\n",
       "      <td>0</td>\n",
       "      <td>0</td>\n",
       "      <td>0</td>\n",
       "      <td>0</td>\n",
       "      <td>0</td>\n",
       "      <td>...</td>\n",
       "      <td>0</td>\n",
       "      <td>0</td>\n",
       "      <td>0</td>\n",
       "      <td>0</td>\n",
       "      <td>1</td>\n",
       "      <td>0</td>\n",
       "      <td>0</td>\n",
       "      <td>0</td>\n",
       "      <td>1</td>\n",
       "      <td>1</td>\n",
       "    </tr>\n",
       "    <tr>\n",
       "      <th>2</th>\n",
       "      <td>2.562639</td>\n",
       "      <td>72</td>\n",
       "      <td>0</td>\n",
       "      <td>0</td>\n",
       "      <td>0</td>\n",
       "      <td>0</td>\n",
       "      <td>0</td>\n",
       "      <td>0</td>\n",
       "      <td>0</td>\n",
       "      <td>0</td>\n",
       "      <td>...</td>\n",
       "      <td>0</td>\n",
       "      <td>0</td>\n",
       "      <td>0</td>\n",
       "      <td>0</td>\n",
       "      <td>0</td>\n",
       "      <td>0</td>\n",
       "      <td>0</td>\n",
       "      <td>0</td>\n",
       "      <td>1</td>\n",
       "      <td>1</td>\n",
       "    </tr>\n",
       "    <tr>\n",
       "      <th>3</th>\n",
       "      <td>2.197225</td>\n",
       "      <td>69</td>\n",
       "      <td>0</td>\n",
       "      <td>0</td>\n",
       "      <td>0</td>\n",
       "      <td>0</td>\n",
       "      <td>0</td>\n",
       "      <td>0</td>\n",
       "      <td>0</td>\n",
       "      <td>0</td>\n",
       "      <td>...</td>\n",
       "      <td>0</td>\n",
       "      <td>0</td>\n",
       "      <td>0</td>\n",
       "      <td>0</td>\n",
       "      <td>0</td>\n",
       "      <td>0</td>\n",
       "      <td>0</td>\n",
       "      <td>0</td>\n",
       "      <td>0</td>\n",
       "      <td>1</td>\n",
       "    </tr>\n",
       "    <tr>\n",
       "      <th>4</th>\n",
       "      <td>2.302585</td>\n",
       "      <td>58</td>\n",
       "      <td>0</td>\n",
       "      <td>0</td>\n",
       "      <td>0</td>\n",
       "      <td>0</td>\n",
       "      <td>0</td>\n",
       "      <td>0</td>\n",
       "      <td>0</td>\n",
       "      <td>0</td>\n",
       "      <td>...</td>\n",
       "      <td>0</td>\n",
       "      <td>0</td>\n",
       "      <td>0</td>\n",
       "      <td>1</td>\n",
       "      <td>0</td>\n",
       "      <td>0</td>\n",
       "      <td>0</td>\n",
       "      <td>0</td>\n",
       "      <td>0</td>\n",
       "      <td>1</td>\n",
       "    </tr>\n",
       "  </tbody>\n",
       "</table>\n",
       "<p>5 rows × 31 columns</p>\n",
       "</div>"
      ],
      "text/plain": [
       "   log_wage  a_age  cat_edu2  cat_edu3  cat_edu4  cat_edu5  cat_edu6  \\\n",
       "0  2.564949     34         0         0         0         0         0   \n",
       "1  2.541602     31         0         0         0         0         0   \n",
       "2  2.562639     72         0         0         0         0         0   \n",
       "3  2.197225     69         0         0         0         0         0   \n",
       "4  2.302585     58         0         0         0         0         0   \n",
       "\n",
       "   cat_edu7  cat_edu8  cat_edu9    ...     cat_industry6  cat_industry7  \\\n",
       "0         0         0         1    ...                 0              0   \n",
       "1         0         0         0    ...                 0              0   \n",
       "2         0         0         0    ...                 0              0   \n",
       "3         0         0         0    ...                 0              0   \n",
       "4         0         0         0    ...                 0              0   \n",
       "\n",
       "   cat_industry8  cat_industry9  cat_industry10  cat_industry11  \\\n",
       "0              0              0               0               0   \n",
       "1              0              0               1               0   \n",
       "2              0              0               0               0   \n",
       "3              0              0               0               0   \n",
       "4              0              1               0               0   \n",
       "\n",
       "   cat_industry12  cat_industry13  female  constant  \n",
       "0               0               0       1         1  \n",
       "1               0               0       1         1  \n",
       "2               0               0       1         1  \n",
       "3               0               0       0         1  \n",
       "4               0               0       0         1  \n",
       "\n",
       "[5 rows x 31 columns]"
      ]
     },
     "execution_count": 48,
     "metadata": {},
     "output_type": "execute_result"
    }
   ],
   "source": [
    "df = pd.read_csv('cpsmar2017.csv')\n",
    "df['constant'] = 1\n",
    "print(df.shape)\n",
    "df.head()"
   ]
  },
  {
   "cell_type": "code",
   "execution_count": 94,
   "metadata": {
    "scrolled": false
   },
   "outputs": [
    {
     "data": {
      "text/html": [
       "<table class=\"simpletable\">\n",
       "<caption>OLS Regression Results</caption>\n",
       "<tr>\n",
       "  <th>Dep. Variable:</th>        <td>log_wage</td>     <th>  R-squared:         </th> <td>   0.308</td>\n",
       "</tr>\n",
       "<tr>\n",
       "  <th>Model:</th>                   <td>OLS</td>       <th>  Adj. R-squared:    </th> <td>   0.305</td>\n",
       "</tr>\n",
       "<tr>\n",
       "  <th>Method:</th>             <td>Least Squares</td>  <th>  F-statistic:       </th> <td>   111.3</td>\n",
       "</tr>\n",
       "<tr>\n",
       "  <th>Date:</th>             <td>Tue, 01 May 2018</td> <th>  Prob (F-statistic):</th>  <td>  0.00</td> \n",
       "</tr>\n",
       "<tr>\n",
       "  <th>Time:</th>                 <td>02:11:52</td>     <th>  Log-Likelihood:    </th> <td> -3858.7</td>\n",
       "</tr>\n",
       "<tr>\n",
       "  <th>No. Observations:</th>      <td>  7285</td>      <th>  AIC:               </th> <td>   7777.</td>\n",
       "</tr>\n",
       "<tr>\n",
       "  <th>Df Residuals:</th>          <td>  7255</td>      <th>  BIC:               </th> <td>   7984.</td>\n",
       "</tr>\n",
       "<tr>\n",
       "  <th>Df Model:</th>              <td>    29</td>      <th>                     </th>     <td> </td>   \n",
       "</tr>\n",
       "<tr>\n",
       "  <th>Covariance Type:</th>      <td>nonrobust</td>    <th>                     </th>     <td> </td>   \n",
       "</tr>\n",
       "</table>\n",
       "<table class=\"simpletable\">\n",
       "<tr>\n",
       "         <td></td>           <th>coef</th>     <th>std err</th>      <th>t</th>      <th>P>|t|</th>  <th>[0.025</th>    <th>0.975]</th>  \n",
       "</tr>\n",
       "<tr>\n",
       "  <th>a_age</th>          <td>    0.0065</td> <td>    0.000</td> <td>   18.719</td> <td> 0.000</td> <td>    0.006</td> <td>    0.007</td>\n",
       "</tr>\n",
       "<tr>\n",
       "  <th>cat_edu2</th>       <td>    0.1361</td> <td>    0.118</td> <td>    1.152</td> <td> 0.250</td> <td>   -0.096</td> <td>    0.368</td>\n",
       "</tr>\n",
       "<tr>\n",
       "  <th>cat_edu3</th>       <td>    0.0332</td> <td>    0.106</td> <td>    0.312</td> <td> 0.755</td> <td>   -0.175</td> <td>    0.242</td>\n",
       "</tr>\n",
       "<tr>\n",
       "  <th>cat_edu4</th>       <td>    0.1377</td> <td>    0.108</td> <td>    1.278</td> <td> 0.201</td> <td>   -0.074</td> <td>    0.349</td>\n",
       "</tr>\n",
       "<tr>\n",
       "  <th>cat_edu5</th>       <td>    0.1019</td> <td>    0.106</td> <td>    0.963</td> <td> 0.336</td> <td>   -0.106</td> <td>    0.309</td>\n",
       "</tr>\n",
       "<tr>\n",
       "  <th>cat_edu6</th>       <td>    0.1535</td> <td>    0.103</td> <td>    1.496</td> <td> 0.135</td> <td>   -0.048</td> <td>    0.355</td>\n",
       "</tr>\n",
       "<tr>\n",
       "  <th>cat_edu7</th>       <td>    0.1320</td> <td>    0.101</td> <td>    1.306</td> <td> 0.192</td> <td>   -0.066</td> <td>    0.330</td>\n",
       "</tr>\n",
       "<tr>\n",
       "  <th>cat_edu8</th>       <td>    0.1725</td> <td>    0.104</td> <td>    1.662</td> <td> 0.096</td> <td>   -0.031</td> <td>    0.376</td>\n",
       "</tr>\n",
       "<tr>\n",
       "  <th>cat_edu9</th>       <td>    0.2707</td> <td>    0.098</td> <td>    2.772</td> <td> 0.006</td> <td>    0.079</td> <td>    0.462</td>\n",
       "</tr>\n",
       "<tr>\n",
       "  <th>cat_edu10</th>      <td>    0.2913</td> <td>    0.098</td> <td>    2.975</td> <td> 0.003</td> <td>    0.099</td> <td>    0.483</td>\n",
       "</tr>\n",
       "<tr>\n",
       "  <th>cat_edu11</th>      <td>    0.4277</td> <td>    0.100</td> <td>    4.297</td> <td> 0.000</td> <td>    0.233</td> <td>    0.623</td>\n",
       "</tr>\n",
       "<tr>\n",
       "  <th>cat_edu12</th>      <td>    0.4028</td> <td>    0.099</td> <td>    4.065</td> <td> 0.000</td> <td>    0.209</td> <td>    0.597</td>\n",
       "</tr>\n",
       "<tr>\n",
       "  <th>cat_edu13</th>      <td>    0.5635</td> <td>    0.098</td> <td>    5.737</td> <td> 0.000</td> <td>    0.371</td> <td>    0.756</td>\n",
       "</tr>\n",
       "<tr>\n",
       "  <th>cat_edu14</th>      <td>    0.7149</td> <td>    0.100</td> <td>    7.116</td> <td> 0.000</td> <td>    0.518</td> <td>    0.912</td>\n",
       "</tr>\n",
       "<tr>\n",
       "  <th>cat_edu15</th>      <td>    0.8523</td> <td>    0.121</td> <td>    7.037</td> <td> 0.000</td> <td>    0.615</td> <td>    1.090</td>\n",
       "</tr>\n",
       "<tr>\n",
       "  <th>cat_edu16</th>      <td>    0.8076</td> <td>    0.118</td> <td>    6.829</td> <td> 0.000</td> <td>    0.576</td> <td>    1.039</td>\n",
       "</tr>\n",
       "<tr>\n",
       "  <th>cat_industry2</th>  <td>    0.4954</td> <td>    0.076</td> <td>    6.490</td> <td> 0.000</td> <td>    0.346</td> <td>    0.645</td>\n",
       "</tr>\n",
       "<tr>\n",
       "  <th>cat_industry3</th>  <td>    0.3304</td> <td>    0.050</td> <td>    6.548</td> <td> 0.000</td> <td>    0.231</td> <td>    0.429</td>\n",
       "</tr>\n",
       "<tr>\n",
       "  <th>cat_industry4</th>  <td>    0.2466</td> <td>    0.049</td> <td>    5.010</td> <td> 0.000</td> <td>    0.150</td> <td>    0.343</td>\n",
       "</tr>\n",
       "<tr>\n",
       "  <th>cat_industry5</th>  <td>    0.0217</td> <td>    0.049</td> <td>    0.445</td> <td> 0.656</td> <td>   -0.074</td> <td>    0.117</td>\n",
       "</tr>\n",
       "<tr>\n",
       "  <th>cat_industry6</th>  <td>    0.3028</td> <td>    0.051</td> <td>    5.894</td> <td> 0.000</td> <td>    0.202</td> <td>    0.404</td>\n",
       "</tr>\n",
       "<tr>\n",
       "  <th>cat_industry7</th>  <td>    0.2365</td> <td>    0.060</td> <td>    3.916</td> <td> 0.000</td> <td>    0.118</td> <td>    0.355</td>\n",
       "</tr>\n",
       "<tr>\n",
       "  <th>cat_industry8</th>  <td>    0.2079</td> <td>    0.052</td> <td>    3.971</td> <td> 0.000</td> <td>    0.105</td> <td>    0.311</td>\n",
       "</tr>\n",
       "<tr>\n",
       "  <th>cat_industry9</th>  <td>    0.2010</td> <td>    0.050</td> <td>    4.000</td> <td> 0.000</td> <td>    0.102</td> <td>    0.299</td>\n",
       "</tr>\n",
       "<tr>\n",
       "  <th>cat_industry10</th> <td>    0.1807</td> <td>    0.048</td> <td>    3.728</td> <td> 0.000</td> <td>    0.086</td> <td>    0.276</td>\n",
       "</tr>\n",
       "<tr>\n",
       "  <th>cat_industry11</th> <td>   -0.1564</td> <td>    0.049</td> <td>   -3.193</td> <td> 0.001</td> <td>   -0.252</td> <td>   -0.060</td>\n",
       "</tr>\n",
       "<tr>\n",
       "  <th>cat_industry12</th> <td>    0.0524</td> <td>    0.053</td> <td>    0.991</td> <td> 0.322</td> <td>   -0.051</td> <td>    0.156</td>\n",
       "</tr>\n",
       "<tr>\n",
       "  <th>cat_industry13</th> <td>    0.3084</td> <td>    0.052</td> <td>    5.922</td> <td> 0.000</td> <td>    0.206</td> <td>    0.411</td>\n",
       "</tr>\n",
       "<tr>\n",
       "  <th>female</th>         <td>   -0.1374</td> <td>    0.011</td> <td>  -12.925</td> <td> 0.000</td> <td>   -0.158</td> <td>   -0.117</td>\n",
       "</tr>\n",
       "<tr>\n",
       "  <th>constant</th>       <td>    2.0586</td> <td>    0.109</td> <td>   18.899</td> <td> 0.000</td> <td>    1.845</td> <td>    2.272</td>\n",
       "</tr>\n",
       "</table>\n",
       "<table class=\"simpletable\">\n",
       "<tr>\n",
       "  <th>Omnibus:</th>       <td>222.562</td> <th>  Durbin-Watson:     </th> <td>   1.811</td> \n",
       "</tr>\n",
       "<tr>\n",
       "  <th>Prob(Omnibus):</th> <td> 0.000</td>  <th>  Jarque-Bera (JB):  </th> <td> 595.174</td> \n",
       "</tr>\n",
       "<tr>\n",
       "  <th>Skew:</th>          <td> 0.010</td>  <th>  Prob(JB):          </th> <td>5.75e-130</td>\n",
       "</tr>\n",
       "<tr>\n",
       "  <th>Kurtosis:</th>      <td> 4.400</td>  <th>  Cond. No.          </th> <td>3.45e+03</td> \n",
       "</tr>\n",
       "</table>"
      ],
      "text/plain": [
       "<class 'statsmodels.iolib.summary.Summary'>\n",
       "\"\"\"\n",
       "                            OLS Regression Results                            \n",
       "==============================================================================\n",
       "Dep. Variable:               log_wage   R-squared:                       0.308\n",
       "Model:                            OLS   Adj. R-squared:                  0.305\n",
       "Method:                 Least Squares   F-statistic:                     111.3\n",
       "Date:                Tue, 01 May 2018   Prob (F-statistic):               0.00\n",
       "Time:                        02:11:52   Log-Likelihood:                -3858.7\n",
       "No. Observations:                7285   AIC:                             7777.\n",
       "Df Residuals:                    7255   BIC:                             7984.\n",
       "Df Model:                          29                                         \n",
       "Covariance Type:            nonrobust                                         \n",
       "==================================================================================\n",
       "                     coef    std err          t      P>|t|      [0.025      0.975]\n",
       "----------------------------------------------------------------------------------\n",
       "a_age              0.0065      0.000     18.719      0.000       0.006       0.007\n",
       "cat_edu2           0.1361      0.118      1.152      0.250      -0.096       0.368\n",
       "cat_edu3           0.0332      0.106      0.312      0.755      -0.175       0.242\n",
       "cat_edu4           0.1377      0.108      1.278      0.201      -0.074       0.349\n",
       "cat_edu5           0.1019      0.106      0.963      0.336      -0.106       0.309\n",
       "cat_edu6           0.1535      0.103      1.496      0.135      -0.048       0.355\n",
       "cat_edu7           0.1320      0.101      1.306      0.192      -0.066       0.330\n",
       "cat_edu8           0.1725      0.104      1.662      0.096      -0.031       0.376\n",
       "cat_edu9           0.2707      0.098      2.772      0.006       0.079       0.462\n",
       "cat_edu10          0.2913      0.098      2.975      0.003       0.099       0.483\n",
       "cat_edu11          0.4277      0.100      4.297      0.000       0.233       0.623\n",
       "cat_edu12          0.4028      0.099      4.065      0.000       0.209       0.597\n",
       "cat_edu13          0.5635      0.098      5.737      0.000       0.371       0.756\n",
       "cat_edu14          0.7149      0.100      7.116      0.000       0.518       0.912\n",
       "cat_edu15          0.8523      0.121      7.037      0.000       0.615       1.090\n",
       "cat_edu16          0.8076      0.118      6.829      0.000       0.576       1.039\n",
       "cat_industry2      0.4954      0.076      6.490      0.000       0.346       0.645\n",
       "cat_industry3      0.3304      0.050      6.548      0.000       0.231       0.429\n",
       "cat_industry4      0.2466      0.049      5.010      0.000       0.150       0.343\n",
       "cat_industry5      0.0217      0.049      0.445      0.656      -0.074       0.117\n",
       "cat_industry6      0.3028      0.051      5.894      0.000       0.202       0.404\n",
       "cat_industry7      0.2365      0.060      3.916      0.000       0.118       0.355\n",
       "cat_industry8      0.2079      0.052      3.971      0.000       0.105       0.311\n",
       "cat_industry9      0.2010      0.050      4.000      0.000       0.102       0.299\n",
       "cat_industry10     0.1807      0.048      3.728      0.000       0.086       0.276\n",
       "cat_industry11    -0.1564      0.049     -3.193      0.001      -0.252      -0.060\n",
       "cat_industry12     0.0524      0.053      0.991      0.322      -0.051       0.156\n",
       "cat_industry13     0.3084      0.052      5.922      0.000       0.206       0.411\n",
       "female            -0.1374      0.011    -12.925      0.000      -0.158      -0.117\n",
       "constant           2.0586      0.109     18.899      0.000       1.845       2.272\n",
       "==============================================================================\n",
       "Omnibus:                      222.562   Durbin-Watson:                   1.811\n",
       "Prob(Omnibus):                  0.000   Jarque-Bera (JB):              595.174\n",
       "Skew:                           0.010   Prob(JB):                    5.75e-130\n",
       "Kurtosis:                       4.400   Cond. No.                     3.45e+03\n",
       "==============================================================================\n",
       "\n",
       "Warnings:\n",
       "[1] Standard Errors assume that the covariance matrix of the errors is correctly specified.\n",
       "[2] The condition number is large, 3.45e+03. This might indicate that there are\n",
       "strong multicollinearity or other numerical problems.\n",
       "\"\"\""
      ]
     },
     "execution_count": 94,
     "metadata": {},
     "output_type": "execute_result"
    }
   ],
   "source": [
    "outcome = df['log_wage']\n",
    "predictors = df[df.columns[1:]].astype(float)\n",
    "\n",
    "results = sm.OLS(outcome, predictors).fit()\n",
    "results.summary()"
   ]
  },
  {
   "cell_type": "code",
   "execution_count": 61,
   "metadata": {
    "scrolled": true
   },
   "outputs": [],
   "source": [
    "male = df[df['female']==0].reset_index(drop=True).drop('female', axis=1)\n",
    "female = df[df['female']==1].reset_index(drop=True).drop('female', axis=1)\n",
    "\n",
    "Xm = male.ix[:, 1:]\n",
    "Xf = female.ix[:, 1:]\n",
    "Ym = male['log_wage']\n",
    "Yf = female['log_wage']"
   ]
  },
  {
   "cell_type": "code",
   "execution_count": 69,
   "metadata": {},
   "outputs": [],
   "source": [
    "female_model = sm.OLS(Yf, Xf).fit()\n",
    "male_model = sm.OLS(Ym, Xm).fit()"
   ]
  },
  {
   "cell_type": "code",
   "execution_count": 71,
   "metadata": {},
   "outputs": [
    {
     "data": {
      "text/plain": [
       "a_age             0.005350\n",
       "cat_edu2         -0.007384\n",
       "cat_edu3          0.073658\n",
       "cat_edu4          0.244086\n",
       "cat_edu5          0.099737\n",
       "cat_edu6          0.140865\n",
       "cat_edu7          0.137983\n",
       "cat_edu8          0.145013\n",
       "cat_edu9          0.265506\n",
       "cat_edu10         0.286399\n",
       "cat_edu11         0.454292\n",
       "cat_edu12         0.412095\n",
       "cat_edu13         0.590704\n",
       "cat_edu14         0.700808\n",
       "cat_edu15         0.825737\n",
       "cat_edu16         0.990182\n",
       "cat_industry2     0.606748\n",
       "cat_industry3     0.133246\n",
       "cat_industry4     0.137882\n",
       "cat_industry5    -0.020199\n",
       "cat_industry6     0.236523\n",
       "cat_industry7     0.167427\n",
       "cat_industry8     0.194698\n",
       "cat_industry9     0.155906\n",
       "cat_industry10    0.148484\n",
       "cat_industry11   -0.162102\n",
       "cat_industry12   -0.066036\n",
       "cat_industry13    0.234563\n",
       "constant          2.004633\n",
       "dtype: float64"
      ]
     },
     "execution_count": 71,
     "metadata": {},
     "output_type": "execute_result"
    }
   ],
   "source": [
    "female_model.params"
   ]
  },
  {
   "cell_type": "code",
   "execution_count": 65,
   "metadata": {},
   "outputs": [
    {
     "data": {
      "text/plain": [
       "2.800170196072856"
      ]
     },
     "execution_count": 65,
     "metadata": {},
     "output_type": "execute_result"
    }
   ],
   "source": [
    "group1 = np.mean(Ym)\n",
    "group1"
   ]
  },
  {
   "cell_type": "code",
   "execution_count": 66,
   "metadata": {},
   "outputs": [
    {
     "data": {
      "text/plain": [
       "2.669119609758697"
      ]
     },
     "execution_count": 66,
     "metadata": {},
     "output_type": "execute_result"
    }
   ],
   "source": [
    "group2 = np.mean(Yf)\n",
    "group2"
   ]
  },
  {
   "cell_type": "code",
   "execution_count": 67,
   "metadata": {},
   "outputs": [
    {
     "data": {
      "text/plain": [
       "0.1310505863141591"
      ]
     },
     "execution_count": 67,
     "metadata": {},
     "output_type": "execute_result"
    }
   ],
   "source": [
    "difference = np.mean(Ym) - np.mean(Yf)\n",
    "difference"
   ]
  },
  {
   "cell_type": "code",
   "execution_count": 80,
   "metadata": {},
   "outputs": [
    {
     "data": {
      "text/plain": [
       "-0.033999689572430297"
      ]
     },
     "execution_count": 80,
     "metadata": {},
     "output_type": "execute_result"
    }
   ],
   "source": [
    "endowments = np.transpose(np.array(np.mean(Xm) - np.mean(Xf))) @ np.array(female_model.params)\n",
    "endowments"
   ]
  },
  {
   "cell_type": "code",
   "execution_count": 81,
   "metadata": {},
   "outputs": [
    {
     "data": {
      "text/plain": [
       "0.11942266640299942"
      ]
     },
     "execution_count": 81,
     "metadata": {},
     "output_type": "execute_result"
    }
   ],
   "source": [
    "coefficients = np.transpose(np.array(np.mean(Xf))) @ np.array(male_model.params - female_model.params)\n",
    "coefficients"
   ]
  },
  {
   "cell_type": "code",
   "execution_count": 82,
   "metadata": {},
   "outputs": [
    {
     "data": {
      "text/plain": [
       "0.045627609483592985"
      ]
     },
     "execution_count": 82,
     "metadata": {},
     "output_type": "execute_result"
    }
   ],
   "source": [
    "interaction = np.transpose(np.array(np.mean(Xm) - np.mean(Xf))) @ np.array(male_model.params - female_model.params)\n",
    "interaction"
   ]
  },
  {
   "cell_type": "code",
   "execution_count": 89,
   "metadata": {},
   "outputs": [
    {
     "data": {
      "text/plain": [
       "a_age            -0.005403\n",
       "cat_edu2         -0.000023\n",
       "cat_edu3          0.000429\n",
       "cat_edu4          0.001999\n",
       "cat_edu5          0.000724\n",
       "cat_edu6         -0.000054\n",
       "cat_edu7          0.001103\n",
       "cat_edu8          0.000821\n",
       "cat_edu9          0.020353\n",
       "cat_edu10        -0.004411\n",
       "cat_edu11         0.001427\n",
       "cat_edu12        -0.008978\n",
       "cat_edu13        -0.033895\n",
       "cat_edu14        -0.014913\n",
       "cat_edu15        -0.001779\n",
       "cat_edu16        -0.001268\n",
       "cat_industry2     0.007115\n",
       "cat_industry3     0.014562\n",
       "cat_industry4     0.013966\n",
       "cat_industry5    -0.000026\n",
       "cat_industry6     0.012876\n",
       "cat_industry7     0.000884\n",
       "cat_industry8    -0.006157\n",
       "cat_industry9    -0.000185\n",
       "cat_industry10   -0.038811\n",
       "cat_industry11    0.002619\n",
       "cat_industry12   -0.000094\n",
       "cat_industry13    0.003122\n",
       "constant          0.000000\n",
       "dtype: float64"
      ]
     },
     "execution_count": 89,
     "metadata": {},
     "output_type": "execute_result"
    }
   ],
   "source": [
    "# endowments\n",
    "(np.mean(Xm) - np.mean(Xf)) * female_model.params"
   ]
  },
  {
   "cell_type": "code",
   "execution_count": 90,
   "metadata": {},
   "outputs": [
    {
     "data": {
      "text/plain": [
       "a_age             0.097282\n",
       "cat_edu2          0.000883\n",
       "cat_edu3         -0.000708\n",
       "cat_edu4         -0.001114\n",
       "cat_edu5         -0.000164\n",
       "cat_edu6          0.000400\n",
       "cat_edu7         -0.000422\n",
       "cat_edu8          0.000571\n",
       "cat_edu9          0.001161\n",
       "cat_edu10         0.001690\n",
       "cat_edu11        -0.003841\n",
       "cat_edu12        -0.001968\n",
       "cat_edu13        -0.012988\n",
       "cat_edu14         0.002445\n",
       "cat_edu15         0.000563\n",
       "cat_edu16        -0.002326\n",
       "cat_industry2    -0.000077\n",
       "cat_industry3     0.003738\n",
       "cat_industry4     0.008994\n",
       "cat_industry5     0.009832\n",
       "cat_industry6     0.002621\n",
       "cat_industry7     0.001526\n",
       "cat_industry8    -0.001462\n",
       "cat_industry9     0.005205\n",
       "cat_industry10    0.005512\n",
       "cat_industry11   -0.001794\n",
       "cat_industry12    0.008642\n",
       "cat_industry13    0.005300\n",
       "constant         -0.010077\n",
       "dtype: float64"
      ]
     },
     "execution_count": 90,
     "metadata": {},
     "output_type": "execute_result"
    }
   ],
   "source": [
    "# coefficients\n",
    "np.mean(Xf) * (male_model.params - female_model.params)"
   ]
  },
  {
   "cell_type": "code",
   "execution_count": 92,
   "metadata": {},
   "outputs": [
    {
     "data": {
      "text/plain": [
       "a_age            -0.002432\n",
       "cat_edu2          0.000741\n",
       "cat_edu3         -0.000432\n",
       "cat_edu4         -0.001323\n",
       "cat_edu5         -0.000121\n",
       "cat_edu6         -0.000007\n",
       "cat_edu7         -0.000122\n",
       "cat_edu8          0.000214\n",
       "cat_edu9          0.000303\n",
       "cat_edu10        -0.000114\n",
       "cat_edu11        -0.000221\n",
       "cat_edu12         0.000539\n",
       "cat_edu13         0.004044\n",
       "cat_edu14        -0.001011\n",
       "cat_edu15        -0.000218\n",
       "cat_edu16         0.000511\n",
       "cat_industry2    -0.001131\n",
       "cat_industry3     0.026109\n",
       "cat_industry4     0.015687\n",
       "cat_industry5     0.000081\n",
       "cat_industry6     0.005028\n",
       "cat_industry7     0.000584\n",
       "cat_industry8     0.000748\n",
       "cat_industry9    -0.000080\n",
       "cat_industry10   -0.003960\n",
       "cat_industry11    0.000211\n",
       "cat_industry12    0.000317\n",
       "cat_industry13    0.001683\n",
       "constant         -0.000000\n",
       "dtype: float64"
      ]
     },
     "execution_count": 92,
     "metadata": {},
     "output_type": "execute_result"
    }
   ],
   "source": [
    "# interactions\n",
    "(np.mean(Xm) - np.mean(Xf)) * (male_model.params - female_model.params)"
   ]
  },
  {
   "cell_type": "code",
   "execution_count": 115,
   "metadata": {
    "collapsed": true
   },
   "outputs": [],
   "source": [
    "from statsmodels.iolib.table import SimpleTable"
   ]
  },
  {
   "cell_type": "code",
   "execution_count": 114,
   "metadata": {},
   "outputs": [
    {
     "data": {
      "text/html": [
       "<table class=\"simpletable\">\n",
       "<caption>Title</caption>\n",
       "<tr>\n",
       "    <td></td>    <th>Column 1</th> <th>Column 2</th>\n",
       "</tr>\n",
       "<tr>\n",
       "  <th>Row 1</th>    <td>11</td>       <td>12</td>   \n",
       "</tr>\n",
       "<tr>\n",
       "  <th>Row 2</th>    <td>21</td>       <td>22</td>   \n",
       "</tr>\n",
       "</table>"
      ],
      "text/plain": [
       "<class 'statsmodels.iolib.table.SimpleTable'>"
      ]
     },
     "execution_count": 114,
     "metadata": {},
     "output_type": "execute_result"
    }
   ],
   "source": [
    "mydata = [[11,12],[21,22]]  # data MUST be 2-dimensional\n",
    "myheaders = [ \"Column 1\", \"Column 2\" ]\n",
    "mystubs = [ \"Row 1\", \"Row 2\" ]\n",
    "tbl = SimpleTable(mydata, myheaders, mystubs, title=\"Title\")\n",
    "tbl"
   ]
  },
  {
   "cell_type": "code",
   "execution_count": null,
   "metadata": {
    "collapsed": true
   },
   "outputs": [],
   "source": []
  }
 ],
 "metadata": {
  "anaconda-cloud": {},
  "kernelspec": {
   "display_name": "Python [Root]",
   "language": "python",
   "name": "Python [Root]"
  },
  "language_info": {
   "codemirror_mode": {
    "name": "ipython",
    "version": 3
   },
   "file_extension": ".py",
   "mimetype": "text/x-python",
   "name": "python",
   "nbconvert_exporter": "python",
   "pygments_lexer": "ipython3",
   "version": "3.5.2"
  }
 },
 "nbformat": 4,
 "nbformat_minor": 2
}
